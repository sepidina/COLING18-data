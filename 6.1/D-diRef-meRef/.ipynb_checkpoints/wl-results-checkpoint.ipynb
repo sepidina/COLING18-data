{
 "cells": [
  {
   "cell_type": "code",
   "execution_count": 4,
   "metadata": {
    "collapsed": true
   },
   "outputs": [],
   "source": [
    "%matplotlib inline\n",
    "import matplotlib.pyplot as plt\n",
    "import numpy as np\n",
    "import openpyxl\n",
    "import os"
   ]
  },
  {
   "cell_type": "markdown",
   "metadata": {},
   "source": [
    "### other models= assoc-freq"
   ]
  },
  {
   "cell_type": "code",
   "execution_count": 158,
   "metadata": {
    "collapsed": false
   },
   "outputs": [
    {
     "name": "stdout",
     "output_type": "stream",
     "text": [
      "/Users/phoebeyang/Downloads\n",
      "\n"
     ]
    }
   ],
   "source": [
    "print(os.getcwd()+'\\n')\n",
    "wb = openpyxl.load_workbook('di06me03.xlsx')\n",
    "type(wb)\n",
    "wb.get_sheet_names()\n",
    "mean = wb.get_sheet_by_name('mean')\n",
    "mean_dict = {}\n",
    "\n",
    "for i in range(2,74):\n",
    "    c = mean['A'+str(i)]\n",
    "    gamma = mean['B'+str(c.row)].value\n",
    "    kappa = mean['D'+str(c.row)].value\n",
    "    ##print('gamma: ' + str(gamma) + ' kappa: '+ str(kappa) + ' mean: ' + str(c.value))\n",
    "    name = 'mean_gamma%s' % gamma + '_kappa%s' % kappa\n",
    "    temp = '0.'\n",
    "    if temp in name:\n",
    "        name = name.replace(temp,'')\n",
    "    mean_dict[name] = c.value\n",
    "    #print(name)\n",
    "    #print(name + \" \" + mean_dict[name])\n",
    "    \n",
    "\n",
    "\n",
    "\n"
   ]
  },
  {
   "cell_type": "code",
   "execution_count": 159,
   "metadata": {
    "collapsed": true
   },
   "outputs": [],
   "source": [
    "mean_gamma01_kappa001 = float(mean_dict['mean_gamma01_kappa001'])\n",
    "mean_gamma01_kappa005 = float(mean_dict['mean_gamma01_kappa005'])\n",
    "mean_gamma01_kappa01 = float(mean_dict['mean_gamma01_kappa01'])\n",
    "mean_gamma01_kappa05 = float(mean_dict['mean_gamma01_kappa05'])\n",
    "mean_gamma01_kappa1 = float(mean_dict['mean_gamma01_kappa1'])\n",
    "mean_gamma01_kappa15 = float(mean_dict['mean_gamma01_kappa15'])\n",
    "mean_gamma01_kappa2 = float(mean_dict['mean_gamma01_kappa2'])\n",
    "mean_gamma01_kappa3 = float(mean_dict['mean_gamma01_kappa3'])\n",
    "mean_gamma05_kappa001 = float(mean_dict['mean_gamma05_kappa001'])\n",
    "mean_gamma05_kappa005 = float(mean_dict['mean_gamma05_kappa005'])\n",
    "mean_gamma05_kappa01 = float(mean_dict['mean_gamma05_kappa01'])\n",
    "mean_gamma05_kappa05 = float(mean_dict['mean_gamma05_kappa05'])\n",
    "mean_gamma05_kappa1 = float(mean_dict['mean_gamma05_kappa1'])\n",
    "mean_gamma05_kappa15 = float(mean_dict['mean_gamma05_kappa15'])\n",
    "mean_gamma05_kappa2 = float(mean_dict['mean_gamma05_kappa2'])\n",
    "mean_gamma05_kappa3 = float(mean_dict['mean_gamma05_kappa3'])\n",
    "mean_gamma1_kappa001 = float(mean_dict['mean_gamma1_kappa001'])\n",
    "mean_gamma1_kappa005 = float(mean_dict['mean_gamma1_kappa005'])\n",
    "mean_gamma1_kappa01 = float(mean_dict['mean_gamma1_kappa01'])\n",
    "mean_gamma1_kappa05 = float(mean_dict['mean_gamma1_kappa05'])\n",
    "mean_gamma1_kappa1 = float(mean_dict['mean_gamma1_kappa1'])\n",
    "mean_gamma1_kappa15 = float(mean_dict['mean_gamma1_kappa15'])\n",
    "mean_gamma1_kappa2 = float(mean_dict['mean_gamma1_kappa2'])\n",
    "mean_gamma1_kappa3 = float(mean_dict['mean_gamma1_kappa3'])\n",
    "mean_gamma15_kappa001 = float(mean_dict['mean_gamma15_kappa001'])\n",
    "mean_gamma15_kappa005 = float(mean_dict['mean_gamma15_kappa005'])\n",
    "mean_gamma15_kappa01 = float(mean_dict['mean_gamma15_kappa01'])\n",
    "mean_gamma15_kappa05 = float(mean_dict['mean_gamma15_kappa05'])\n",
    "mean_gamma15_kappa1 = float(mean_dict['mean_gamma15_kappa1'])\n",
    "mean_gamma15_kappa15 = float(mean_dict['mean_gamma15_kappa15'])\n",
    "mean_gamma15_kappa2 = float(mean_dict['mean_gamma15_kappa2'])\n",
    "mean_gamma15_kappa3 = float(mean_dict['mean_gamma15_kappa3'])\n",
    "mean_gamma2_kappa001 = float(mean_dict['mean_gamma2_kappa001'])\n",
    "mean_gamma2_kappa005 = float(mean_dict['mean_gamma2_kappa005'])\n",
    "mean_gamma2_kappa01 = float(mean_dict['mean_gamma2_kappa01'])\n",
    "mean_gamma2_kappa05 = float(mean_dict['mean_gamma2_kappa05'])\n",
    "mean_gamma2_kappa1 = float(mean_dict['mean_gamma2_kappa1'])\n",
    "mean_gamma2_kappa15 = float(mean_dict['mean_gamma2_kappa15'])\n",
    "mean_gamma2_kappa2 = float(mean_dict['mean_gamma2_kappa2'])\n",
    "mean_gamma2_kappa3 = float(mean_dict['mean_gamma2_kappa3'])\n",
    "mean_gamma3_kappa001 = float(mean_dict['mean_gamma3_kappa001'])\n",
    "mean_gamma3_kappa005 = float(mean_dict['mean_gamma3_kappa005'])\n",
    "mean_gamma3_kappa01 = float(mean_dict['mean_gamma3_kappa01'])\n",
    "mean_gamma3_kappa05 = float(mean_dict['mean_gamma3_kappa05'])\n",
    "mean_gamma3_kappa1 = float(mean_dict['mean_gamma3_kappa1'])\n",
    "mean_gamma3_kappa15 = float(mean_dict['mean_gamma3_kappa15'])\n",
    "mean_gamma3_kappa2 = float(mean_dict['mean_gamma3_kappa2'])\n",
    "mean_gamma3_kappa3 = float(mean_dict['mean_gamma3_kappa3'])\n",
    "mean_gamma4_kappa001 = float(mean_dict['mean_gamma4_kappa001'])\n",
    "mean_gamma4_kappa005 = float(mean_dict['mean_gamma4_kappa005'])\n",
    "mean_gamma4_kappa01 = float(mean_dict['mean_gamma4_kappa01'])\n",
    "mean_gamma4_kappa05 = float(mean_dict['mean_gamma4_kappa05'])\n",
    "mean_gamma4_kappa1 = float(mean_dict['mean_gamma4_kappa1'])\n",
    "mean_gamma4_kappa15 = float(mean_dict['mean_gamma4_kappa15'])\n",
    "mean_gamma4_kappa2 = float(mean_dict['mean_gamma4_kappa2'])\n",
    "mean_gamma4_kappa3 = float(mean_dict['mean_gamma4_kappa3'])\n",
    "mean_gamma5_kappa001 = float(mean_dict['mean_gamma5_kappa001'])\n",
    "mean_gamma5_kappa005 = float(mean_dict['mean_gamma5_kappa005'])\n",
    "mean_gamma5_kappa01 = float(mean_dict['mean_gamma5_kappa01'])\n",
    "mean_gamma5_kappa05 = float(mean_dict['mean_gamma5_kappa05'])\n",
    "mean_gamma5_kappa1 = float(mean_dict['mean_gamma5_kappa1'])\n",
    "mean_gamma5_kappa15 = float(mean_dict['mean_gamma5_kappa15'])\n",
    "mean_gamma5_kappa2 = float(mean_dict['mean_gamma5_kappa2'])\n",
    "mean_gamma5_kappa3 = float(mean_dict['mean_gamma5_kappa3'])\n",
    "mean_gamma6_kappa001 = float(mean_dict['mean_gamma6_kappa001'])\n",
    "mean_gamma6_kappa005 = float(mean_dict['mean_gamma6_kappa005'])\n",
    "mean_gamma6_kappa01 = float(mean_dict['mean_gamma6_kappa01'])\n",
    "mean_gamma6_kappa05 = float(mean_dict['mean_gamma6_kappa05'])\n",
    "mean_gamma6_kappa1 = float(mean_dict['mean_gamma6_kappa1'])\n",
    "mean_gamma6_kappa15 = float(mean_dict['mean_gamma6_kappa15'])\n",
    "mean_gamma6_kappa2 = float(mean_dict['mean_gamma6_kappa2'])\n",
    "mean_gamma6_kappa3 = float(mean_dict['mean_gamma6_kappa3'])\n",
    "\n"
   ]
  },
  {
   "cell_type": "code",
   "execution_count": 161,
   "metadata": {
    "collapsed": false
   },
   "outputs": [
    {
     "data": {
      "image/png": "[encoded data removed]",
      "text/plain": [
       "<matplotlib.figure.Figure at 0x112278eb8>"
      ]
     },
     "metadata": {},
     "output_type": "display_data"
    }
   ],
   "source": [
    "fig = plt.figure(dpi=100)\n",
    "ax = fig.add_subplot(111)\n",
    "\n",
    "#here's our data to plot, all normal Python lists\n",
    "gamma = [0.01,0.05,0.1,0.15,0.2,0.3,0.4,0.5,0.6]\n",
    "kappa = [0.001,0.005,0.01,0.05,0.1,0.15,0.2,0.3]\n",
    "\n",
    "meanFscore = [[mean_gamma01_kappa001,mean_gamma05_kappa001,mean_gamma1_kappa001,mean_gamma15_kappa001,mean_gamma2_kappa001,mean_gamma3_kappa001,mean_gamma4_kappa001,mean_gamma5_kappa001,mean_gamma6_kappa001],\n",
    "              [mean_gamma01_kappa005,mean_gamma05_kappa005,mean_gamma1_kappa005,mean_gamma15_kappa005,mean_gamma2_kappa005,mean_gamma3_kappa005,mean_gamma4_kappa005,mean_gamma5_kappa005,mean_gamma6_kappa005],\n",
    "              [mean_gamma01_kappa01,mean_gamma05_kappa01,mean_gamma1_kappa01,mean_gamma15_kappa01,mean_gamma2_kappa01,mean_gamma3_kappa01,mean_gamma4_kappa01,mean_gamma5_kappa01,mean_gamma6_kappa01],\n",
    "              [mean_gamma01_kappa05,mean_gamma05_kappa05,mean_gamma1_kappa05,mean_gamma15_kappa05,mean_gamma2_kappa05,mean_gamma3_kappa05,mean_gamma4_kappa05,mean_gamma5_kappa05,mean_gamma6_kappa05],\n",
    "              [mean_gamma01_kappa1,mean_gamma05_kappa1,mean_gamma1_kappa1,mean_gamma15_kappa1,mean_gamma2_kappa1,mean_gamma3_kappa1,mean_gamma4_kappa1,mean_gamma5_kappa1,mean_gamma6_kappa1],\n",
    "              [mean_gamma01_kappa15,mean_gamma05_kappa15,mean_gamma1_kappa15,mean_gamma15_kappa15,mean_gamma2_kappa15,mean_gamma3_kappa15,mean_gamma4_kappa15,mean_gamma5_kappa15,mean_gamma6_kappa15],\n",
    "              [mean_gamma01_kappa2,mean_gamma05_kappa2,mean_gamma1_kappa2,mean_gamma15_kappa2,mean_gamma2_kappa2,mean_gamma3_kappa2,mean_gamma4_kappa2,mean_gamma5_kappa2,mean_gamma6_kappa2],\n",
    "              [mean_gamma01_kappa3,mean_gamma05_kappa3,mean_gamma1_kappa3,mean_gamma15_kappa3,mean_gamma2_kappa3,mean_gamma3_kappa3,mean_gamma4_kappa3,mean_gamma5_kappa3,mean_gamma6_kappa3]\n",
    "             ]\n",
    "\n",
    "\n",
    "#setup the 2D grid with Numpy\n",
    "gamma, kappa = np.meshgrid(gamma, kappa)\n",
    "\n",
    "#convert intensity (list of lists) to a numpy array for plotting\n",
    "meanFscore = np.array(meanFscore)\n",
    "\n",
    "heatmap = ax.pcolor(meanFscore)\n",
    "cbar = plt.colorbar(heatmap)\n",
    "cbar.set_label('mean fscore')\n",
    "\n",
    "\n",
    "ax.set_xlabel(\"gamma\")\n",
    "x_labels = [0.01,0.05,0.1,0.15,0.2,0.3,0.4,0.5,0.6]\n",
    "ax.set(xticks=range(0, 9), xticklabels=list(x_labels))\n",
    "\n",
    "ax.set_ylabel(\"kappa\")\n",
    "y_labels = [0.001,0.005,0.01,0.05,0.1,0.15,0.2,0.3]\n",
    "ax.set_yticklabels(y_labels)\n",
    "\n",
    "\n",
    "\n",
    "fig.savefig('fscore-heatmap-di06me03.png', dpi=100)\n",
    "\n",
    "plt.show() #boom"
   ]
  },
  {
   "cell_type": "code",
   "execution_count": 1,
   "metadata": {
    "collapsed": false
   },
   "outputs": [
    {
     "name": "stdout",
     "output_type": "stream",
     "text": [
      "Populating the interactive namespace from numpy and matplotlib\n"
     ]
    }
   ],
   "source": [
    "%pylab --no-import-all inline"
   ]
  },
  {
   "cell_type": "code",
   "execution_count": 2,
   "metadata": {
    "collapsed": true
   },
   "outputs": [],
   "source": [
    "import matplotlib.pyplot as plt\n",
    "import numpy as np\n",
    "import scipy as sp\n",
    "from scipy import stats\n",
    "import pylab as pl"
   ]
  },
  {
   "cell_type": "code",
   "execution_count": 3,
   "metadata": {
    "collapsed": true
   },
   "outputs": [],
   "source": [
    "def load_data(data_file):\n",
    "    data = []\n",
    "    with open(data_file) as f:\n",
    "        for line in f:\n",
    "            for i, value in enumerate(line.split()):\n",
    "                data.append(float(value))\n",
    "    return np.array(data)"
   ]
  },
  {
   "cell_type": "code",
   "execution_count": null,
   "metadata": {
    "collapsed": true
   },
   "outputs": [],
   "source": [
    "mean_gamma01_kappa001 = load_data('scores.txt')\n",
    "scores_ideal = load_data('scores_ideal.txt')\n",
    "scores_std = load_data('scores_std.txt')\n",
    "scores_ascending = load_data('scores_ascending.txt')\n",
    "scores_ascending_ideal = load_data('scores_ascending_ideal.txt')\n",
    "scores_ascending_std = load_data('scores_ascending_std.txt')\n",
    "scores_descending = load_data('scores_descending.txt')\n",
    "scores_descending_ideal = load_data('scores_descending_ideal.txt')\n",
    "scores_descending_std = load_data('scores_descending_std.txt')\n",
    "scores_ascendingref_nonref = load_data('scores_ascendingref_nonref.txt')\n",
    "scores_ascendingref_nonref_ideal = load_data('scores_ascendingref_nonref_ideal.txt')\n",
    "scores_ascendingref_nonref_std = load_data('scores_ascendingref_nonref_std.txt')\n",
    "scores_nonref_ascendingref = load_data('scores_nonref_ascendingref.txt')\n",
    "scores_nonref_ascendingref_ideal = load_data('scores_nonref_ascendingref_ideal.txt')\n",
    "scores_nonref_ascendingref_std = load_data('scores_nonref_ascendingref_std.txt')\n",
    "refs = load_data('refambigiuity.txt')"
   ]
  },
  {
   "cell_type": "code",
   "execution_count": null,
   "metadata": {
    "collapsed": true
   },
   "outputs": [],
   "source": []
  },
  {
   "cell_type": "code",
   "execution_count": null,
   "metadata": {
    "collapsed": true
   },
   "outputs": [],
   "source": [
    "vnoise20_snoise20 = np.array([0.8, 0.8, 0.7692307692307692, 0.6923076923076923, 0.6666666666666666, 0.8, 0.6923076923076923, 0.6923076923076923, 0.7692307692307692, 0.7692307692307692])\n",
    "mean_vnoise20_snoise20 = np.mean(vnoise20_snoise20)\n",
    "std_vnoise20_snoise20 = np.std(vnoise20_snoise20)\n",
    "mean_vnoise20_snoise20, std_vnoise20_snoise20"
   ]
  },
  {
   "cell_type": "code",
   "execution_count": null,
   "metadata": {
    "collapsed": true
   },
   "outputs": [],
   "source": [
    "fig, (ax1, ax2, ax3, ax4) = plt.subplots(nrows=1, ncols=4, sharex=True, sharey=False, figsize=(15,4))\n",
    "\n",
    "snoise = [0,5,10,15,20]\n",
    "vnoise = [0,5,10,15,20]\n",
    "snoise, vnoise = np.meshgrid(snoise, vnoise)\n",
    "\n",
    "meanFscore = [[mean_vnoise0_snoise0,mean_vnoise0_snoise5,mean_vnoise0_snoise10,mean_vnoise0_snoise15,mean_vnoise0_snoise20],\n",
    "              [mean_vnoise5_snoise0,mean_vnoise5_snoise5,mean_vnoise5_snoise10,mean_vnoise5_snoise15,mean_vnoise5_snoise20],\n",
    "              [mean_vnoise10_snoise0,mean_vnoise10_snoise5,mean_vnoise10_snoise10,mean_vnoise10_snoise15,mean_vnoise10_snoise20],\n",
    "              [mean_vnoise15_snoise0,mean_vnoise15_snoise5,mean_vnoise15_snoise10,mean_vnoise15_snoise15,mean_vnoise15_snoise20],\n",
    "              [mean_vnoise20_snoise0,mean_vnoise20_snoise5,mean_vnoise20_snoise10,mean_vnoise20_snoise15,mean_vnoise20_snoise20]\n",
    "             ]\n",
    "assoc_meanFscore = [[assoc_mean_vnoise0_snoise0,assoc_mean_vnoise0_snoise5,assoc_mean_vnoise0_snoise10,assoc_mean_vnoise0_snoise15,assoc_mean_vnoise0_snoise20],\n",
    "              [assoc_mean_vnoise5_snoise0,assoc_mean_vnoise5_snoise5,assoc_mean_vnoise5_snoise10,assoc_mean_vnoise5_snoise15,assoc_mean_vnoise5_snoise20],\n",
    "              [assoc_mean_vnoise10_snoise0,assoc_mean_vnoise10_snoise5,assoc_mean_vnoise10_snoise10,assoc_mean_vnoise10_snoise15,assoc_mean_vnoise10_snoise20],\n",
    "              [assoc_mean_vnoise15_snoise0,assoc_mean_vnoise15_snoise5,assoc_mean_vnoise15_snoise10,assoc_mean_vnoise15_snoise15,assoc_mean_vnoise15_snoise20],\n",
    "              [assoc_mean_vnoise20_snoise0,assoc_mean_vnoise20_snoise5,assoc_mean_vnoise20_snoise10,assoc_mean_vnoise20_snoise15,assoc_mean_vnoise20_snoise20]\n",
    "             ]\n",
    "\n",
    "condWD_meanFscore = [[condWD_mean_vnoise0_snoise0,condWD_mean_vnoise0_snoise5,condWD_mean_vnoise0_snoise10,condWD_mean_vnoise0_snoise15,condWD_mean_vnoise0_snoise20],\n",
    "              [condWD_mean_vnoise5_snoise0,condWD_mean_vnoise5_snoise5,condWD_mean_vnoise5_snoise10,condWD_mean_vnoise5_snoise15,condWD_mean_vnoise5_snoise20],\n",
    "              [condWD_mean_vnoise10_snoise0,condWD_mean_vnoise10_snoise5,condWD_mean_vnoise10_snoise10,condWD_mean_vnoise10_snoise15,condWD_mean_vnoise10_snoise20],\n",
    "              [condWD_mean_vnoise15_snoise0,condWD_mean_vnoise15_snoise5,condWD_mean_vnoise15_snoise10,condWD_mean_vnoise15_snoise15,condWD_mean_vnoise15_snoise20],\n",
    "              [condWD_mean_vnoise20_snoise0,condWD_mean_vnoise20_snoise5,condWD_mean_vnoise20_snoise10,condWD_mean_vnoise20_snoise15,condWD_mean_vnoise20_snoise20]\n",
    "             ]\n",
    "\n",
    "condOBJ_meanFscore = [[condOBJ_mean_vnoise0_snoise0,condOBJ_mean_vnoise0_snoise5,condOBJ_mean_vnoise0_snoise10,condOBJ_mean_vnoise0_snoise15,condOBJ_mean_vnoise0_snoise20],\n",
    "              [condOBJ_mean_vnoise5_snoise0,condOBJ_mean_vnoise5_snoise5,condOBJ_mean_vnoise5_snoise10,condOBJ_mean_vnoise5_snoise15,condOBJ_mean_vnoise5_snoise20],\n",
    "              [condOBJ_mean_vnoise10_snoise0,condOBJ_mean_vnoise10_snoise5,condOBJ_mean_vnoise10_snoise10,condOBJ_mean_vnoise10_snoise15,condOBJ_mean_vnoise10_snoise20],\n",
    "              [condOBJ_mean_vnoise15_snoise0,condOBJ_mean_vnoise15_snoise5,condOBJ_mean_vnoise15_snoise10,condOBJ_mean_vnoise15_snoise15,condOBJ_mean_vnoise15_snoise20],\n",
    "              [condOBJ_mean_vnoise20_snoise0,condOBJ_mean_vnoise20_snoise5,condOBJ_mean_vnoise20_snoise10,condOBJ_mean_vnoise20_snoise15,condOBJ_mean_vnoise20_snoise20]\n",
    "             ]\n",
    "\n",
    "meanFscore = np.array(meanFscore)\n",
    "assoc_meanFscore = np.array(assoc_meanFscore)\n",
    "condWD_meanFscore = np.array(condWD_meanFscore)\n",
    "condOBJ_meanFscore = np.array(condOBJ_meanFscore)\n",
    "\n",
    "data = [meanFscore,assoc_meanFscore,condWD_meanFscore,condOBJ_meanFscore]\n",
    "\n",
    "\n",
    "heatmap = ax1.pcolor(snoise, vnoise, meanFscore, vmin=0, vmax=1)\n",
    "ax1.set_title('(a)')\n",
    "assoc_heatmap = ax2.pcolor(snoise, vnoise,assoc_meanFscore, vmin=0, vmax=1)\n",
    "ax2.set_title('(b)')\n",
    "condWD_heatmap = ax3.pcolor(snoise, vnoise,condWD_meanFscore, vmin=0, vmax=1)\n",
    "ax3.set_title('(c)')\n",
    "condOBJ_heatmap = ax4.pcolor(snoise, vnoise,condOBJ_meanFscore, vmin=0, vmax=1)\n",
    "ax4.set_title('(d)')\n",
    "\n",
    "\n",
    "#cbar = fig.colorbar(heatmap)\n",
    "cax = fig.add_axes([0.92, 0.1, 0.02, 0.8])\n",
    "cbar = fig.colorbar(heatmap, cax=cax)\n",
    "cbar.set_label('mean fscore',fontsize=14)\n",
    "ax1.set_yticklabels([0,5,10,15,20],fontsize=14)\n",
    "ax1.set_xticklabels([0,5,10,15,20],fontsize=14)\n",
    "ax2.set_yticklabels([0,5,10,15,20],fontsize=14)\n",
    "ax2.set_xticklabels([0,5,10,15,20],fontsize=14)\n",
    "ax3.set_yticklabels([0,5,10,15,20],fontsize=14)\n",
    "ax3.set_xticklabels([0,5,10,15,20],fontsize=14)\n",
    "ax4.set_yticklabels([0,5,10,15,20],fontsize=14)\n",
    "ax4.set_xticklabels([0,5,10,15,20],fontsize=14)\n",
    "#ax3.set_xlabel(\"noise in speech recognition in percentage\")\n",
    "#ax1.set_ylabel(\"percentage of noise in vision\")\n",
    "fig.text(0.5, -0.02, 'percentage of noise in speech recognition', ha='center', fontsize=16)\n",
    "fig.text(0.08, 0.5, 'percentage of noise in vision', va='center', rotation='vertical', fontsize=16)\n",
    "\n",
    "for item in ([ax3.xaxis.label, ax1.yaxis.label, ax1.title, ax2.title, ax3.title, ax4.title]):\n",
    "    item.set_fontsize(16)\n",
    "\n",
    "fig.savefig('fscore-heatmap-all.png', dpi=100, bbox_inches='tight')\n",
    "\n",
    "plt.show() #boom"
   ]
  }
 ],
 "metadata": {
  "anaconda-cloud": {},
  "kernelspec": {
   "display_name": "Python [Root]",
   "language": "python",
   "name": "Python [Root]"
  },
  "language_info": {
   "codemirror_mode": {
    "name": "ipython",
    "version": 3
   },
   "file_extension": ".py",
   "mimetype": "text/x-python",
   "name": "python",
   "nbconvert_exporter": "python",
   "pygments_lexer": "ipython3",
   "version": "3.5.2"
  }
 },
 "nbformat": 4,
 "nbformat_minor": 1
}
